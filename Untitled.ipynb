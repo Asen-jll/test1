{
 "cells": [
  {
   "cell_type": "code",
   "execution_count": 3,
   "id": "fcc9d99b-c4fd-472b-80f2-d500147edccd",
   "metadata": {},
   "outputs": [
    {
     "name": "stdout",
     "output_type": "stream",
     "text": [
      "hello word\n"
     ]
    }
   ],
   "source": [
    "print(\"hello word\")"
   ]
  },
  {
   "cell_type": "code",
   "execution_count": 2,
   "id": "aafed485-325e-4b8f-9925-b53d41f36234",
   "metadata": {},
   "outputs": [
    {
     "data": {
      "text/plain": [
       "2"
      ]
     },
     "execution_count": 2,
     "metadata": {},
     "output_type": "execute_result"
    }
   ],
   "source": [
    "1+1"
   ]
  },
  {
   "cell_type": "code",
   "execution_count": 4,
   "id": "8f95b240-fe3d-47f7-a779-16e846b29e46",
   "metadata": {},
   "outputs": [
    {
     "data": {
      "text/plain": [
       "243"
      ]
     },
     "execution_count": 4,
     "metadata": {},
     "output_type": "execute_result"
    }
   ],
   "source": [
    "3**5"
   ]
  },
  {
   "cell_type": "code",
   "execution_count": null,
   "id": "7fff80a9-a21e-4e6f-8cab-c1ca9f5574c3",
   "metadata": {},
   "outputs": [],
   "source": [
    "做笔记"
   ]
  },
  {
   "cell_type": "markdown",
   "id": "a3c25c5e-0e94-449d-8e63-38f5b6ef8e31",
   "metadata": {},
   "source": [
    "[点击这里可以直接跳转到我的github](https://github.com/dashboard)"
   ]
  },
  {
   "cell_type": "code",
   "execution_count": null,
   "id": "773ac823-1ece-4240-878a-293f32da0bfe",
   "metadata": {},
   "outputs": [],
   "source": [
    "an_apple = 27"
   ]
  },
  {
   "cell_type": "code",
   "execution_count": null,
   "id": "0c7aceae-c081-42c7-86aa-73025de9ba88",
   "metadata": {},
   "outputs": [],
   "source": [
    "an_example = 366"
   ]
  },
  {
   "cell_type": "code",
   "execution_count": null,
   "id": "6fe6d3c2-a648-40ab-9268-e25939be6f36",
   "metadata": {},
   "outputs": [],
   "source": []
  },
  {
   "cell_type": "code",
   "execution_count": null,
   "id": "9b9a627a-9cc3-4e48-8d67-401d4700bcc9",
   "metadata": {},
   "outputs": [],
   "source": []
  }
 ],
 "metadata": {
  "kernelspec": {
   "display_name": "Python [conda env:base] *",
   "language": "python",
   "name": "conda-base-py"
  },
  "language_info": {
   "codemirror_mode": {
    "name": "ipython",
    "version": 3
   },
   "file_extension": ".py",
   "mimetype": "text/x-python",
   "name": "python",
   "nbconvert_exporter": "python",
   "pygments_lexer": "ipython3",
   "version": "3.13.5"
  }
 },
 "nbformat": 4,
 "nbformat_minor": 5
}

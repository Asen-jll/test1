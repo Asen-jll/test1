{
 "cells": [
  {
   "cell_type": "code",
   "execution_count": 3,
   "id": "fcc9d99b-c4fd-472b-80f2-d500147edccd",
   "metadata": {},
   "outputs": [
    {
     "name": "stdout",
     "output_type": "stream",
     "text": [
      "hello word\n"
     ]
    }
   ],
   "source": [
    "print(\"hello word\")"
   ]
  },
  {
   "cell_type": "code",
   "execution_count": 2,
   "id": "aafed485-325e-4b8f-9925-b53d41f36234",
   "metadata": {},
   "outputs": [
    {
     "data": {
      "text/plain": [
       "2"
      ]
     },
     "execution_count": 2,
     "metadata": {},
     "output_type": "execute_result"
    }
   ],
   "source": [
    "1+1"
   ]
  },
  {
   "cell_type": "code",
   "execution_count": 10,
   "id": "8f95b240-fe3d-47f7-a779-16e846b29e46",
   "metadata": {},
   "outputs": [
    {
     "data": {
      "text/plain": [
       "243"
      ]
     },
     "execution_count": 10,
     "metadata": {},
     "output_type": "execute_result"
    }
   ],
   "source": [
    "3**5"
   ]
  },
  {
   "cell_type": "code",
   "execution_count": null,
   "id": "7fff80a9-a21e-4e6f-8cab-c1ca9f5574c3",
   "metadata": {},
   "outputs": [],
   "source": [
    "做笔记"
   ]
  },
  {
   "cell_type": "markdown",
   "id": "a3c25c5e-0e94-449d-8e63-38f5b6ef8e31",
   "metadata": {},
   "source": [
    "[点击这里可以直接跳转到我的github](https://github.com/dashboard)"
   ]
  },
  {
   "cell_type": "code",
   "execution_count": null,
   "id": "6c37e5f3-7a66-4f3a-ac64-fd5f54bd16f9",
   "metadata": {
    "scrolled": true
   },
   "outputs": [],
   "source": [
    "an_apple = 27\n",
    "an_example = 366"
   ]
  },
  {
   "cell_type": "code",
   "execution_count": null,
   "id": "0c7aceae-c081-42c7-86aa-73025de9ba88",
   "metadata": {},
   "outputs": [],
   "source": [
    "b = [1,2,3]\n"
   ]
  },
  {
   "cell_type": "code",
   "execution_count": 14,
   "id": "647c6a31-6f7a-481f-91f3-61f7212ec0fd",
   "metadata": {
    "scrolled": true
   },
   "outputs": [
    {
     "name": "stdout",
     "output_type": "stream",
     "text": [
      "[[0.9296 0.3164 0.1839]\n",
      " [0.2046 0.5677 0.5955]\n",
      " [0.9645 0.6532 0.7489]]\n"
     ]
    }
   ],
   "source": [
    "import numpy as np\n",
    "np.random.seed(12345)\n",
    "np.set_printoptions(precision=4, suppress=True)\n",
    "print(np.random.rand(3, 3))"
   ]
  },
  {
   "cell_type": "code",
   "execution_count": 15,
   "id": "9b9a627a-9cc3-4e48-8d67-401d4700bcc9",
   "metadata": {},
   "outputs": [
    {
     "data": {
      "text/plain": [
       "[1.2488036477362088,\n",
       " 0.7741911574289762,\n",
       " -0.3196572654398582,\n",
       " -0.6249639111531236,\n",
       " 1.0788142452204983,\n",
       " 0.5446474361255883,\n",
       " 0.8555883942204421]"
      ]
     },
     "execution_count": 15,
     "metadata": {},
     "output_type": "execute_result"
    }
   ],
   "source": [
    "import numpy as np\n",
    "data = [np.random.standard_normal() for i in range(7)]\n",
    "data"
   ]
  },
  {
   "cell_type": "code",
   "execution_count": 21,
   "id": "289ad97f-6873-47a3-9edf-297161b72f9b",
   "metadata": {},
   "outputs": [],
   "source": [
    "a = [1, 2, 3]"
   ]
  },
  {
   "cell_type": "code",
   "execution_count": 22,
   "id": "6c6b4ace-0c98-4ccb-8739-d2d048c6a821",
   "metadata": {},
   "outputs": [
    {
     "data": {
      "text/plain": [
       "[1, 2, 3]"
      ]
     },
     "execution_count": 22,
     "metadata": {},
     "output_type": "execute_result"
    }
   ],
   "source": [
    "b = a\n",
    "b"
   ]
  },
  {
   "cell_type": "code",
   "execution_count": 23,
   "id": "93aa1547-c3b9-423f-a6c1-689fb7d7186b",
   "metadata": {},
   "outputs": [
    {
     "data": {
      "text/plain": [
       "[1, 2, 3, 7]"
      ]
     },
     "execution_count": 23,
     "metadata": {},
     "output_type": "execute_result"
    }
   ],
   "source": [
    "a.append(7)\n",
    "b"
   ]
  },
  {
   "cell_type": "code",
   "execution_count": null,
   "id": "cc249182-71b5-403b-a7c4-91ab6098a9cd",
   "metadata": {},
   "outputs": [],
   "source": [
    "def append_element(some_list, element):\n",
    "    some_list.append(element)"
   ]
  },
  {
   "cell_type": "code",
   "execution_count": 27,
   "id": "3b285360-2fac-4b30-858b-f68835d38cba",
   "metadata": {},
   "outputs": [
    {
     "name": "stdout",
     "output_type": "stream",
     "text": [
      "[1, 2, 3, 7, 5]\n"
     ]
    }
   ],
   "source": [
    "append_element(a, 5)   # 现在 5 是实参\n",
    "print(a)"
   ]
  },
  {
   "cell_type": "code",
   "execution_count": null,
   "id": "b460ee7a-b9d2-44fc-bcb8-1d7d2ebf5f9a",
   "metadata": {},
   "outputs": [],
   "source": []
  },
  {
   "cell_type": "code",
   "execution_count": null,
   "id": "c7db6161-5581-482f-bdec-4be980635988",
   "metadata": {},
   "outputs": [],
   "source": []
  },
  {
   "cell_type": "code",
   "execution_count": null,
   "id": "04804bbf-447a-46f9-84c1-c38a8392786e",
   "metadata": {},
   "outputs": [],
   "source": []
  },
  {
   "cell_type": "code",
   "execution_count": null,
   "id": "add34ad7-6af9-43da-910f-f8f0a765022e",
   "metadata": {},
   "outputs": [],
   "source": []
  },
  {
   "cell_type": "code",
   "execution_count": null,
   "id": "3a9cb247-39e3-4811-afbe-881c3ec16ee6",
   "metadata": {},
   "outputs": [],
   "source": []
  },
  {
   "cell_type": "code",
   "execution_count": null,
   "id": "cc1a4031-1d79-4383-b4c4-64049d6363f1",
   "metadata": {},
   "outputs": [],
   "source": []
  },
  {
   "cell_type": "code",
   "execution_count": null,
   "id": "da6df192-7e0a-41f6-aa8d-44a3ad1b705a",
   "metadata": {},
   "outputs": [],
   "source": []
  },
  {
   "cell_type": "code",
   "execution_count": null,
   "id": "3bfc6452-dd41-4bd3-8a78-fbd5ac680a32",
   "metadata": {},
   "outputs": [],
   "source": []
  },
  {
   "cell_type": "code",
   "execution_count": null,
   "id": "1937724a-90f1-4a33-8465-acc9cbba8086",
   "metadata": {},
   "outputs": [],
   "source": []
  },
  {
   "cell_type": "code",
   "execution_count": null,
   "id": "43ea163e-2afe-4c6d-b666-dbe2356a4ded",
   "metadata": {},
   "outputs": [],
   "source": []
  },
  {
   "cell_type": "code",
   "execution_count": null,
   "id": "1bb01a96-7104-469e-a462-1583d3e96947",
   "metadata": {},
   "outputs": [],
   "source": []
  },
  {
   "cell_type": "code",
   "execution_count": null,
   "id": "ddfe471e-452e-422d-86e7-bddf21912146",
   "metadata": {},
   "outputs": [],
   "source": []
  },
  {
   "cell_type": "code",
   "execution_count": null,
   "id": "74bb8b5d-f1c7-47e3-b536-42002c6310b7",
   "metadata": {},
   "outputs": [],
   "source": []
  },
  {
   "cell_type": "code",
   "execution_count": null,
   "id": "73b9dee6-cced-4dc2-9e51-98ab79d6b6bd",
   "metadata": {},
   "outputs": [],
   "source": []
  }
 ],
 "metadata": {
  "kernelspec": {
   "display_name": "Python [conda env:base] *",
   "language": "python",
   "name": "conda-base-py"
  },
  "language_info": {
   "codemirror_mode": {
    "name": "ipython",
    "version": 3
   },
   "file_extension": ".py",
   "mimetype": "text/x-python",
   "name": "python",
   "nbconvert_exporter": "python",
   "pygments_lexer": "ipython3",
   "version": "3.13.5"
  }
 },
 "nbformat": 4,
 "nbformat_minor": 5
}
